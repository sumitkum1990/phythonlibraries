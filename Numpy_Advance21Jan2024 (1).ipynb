{
 "cells": [
  {
   "cell_type": "code",
   "execution_count": 1,
   "id": "02bc4571-be82-4237-8fe9-93ad3221984c",
   "metadata": {},
   "outputs": [],
   "source": [
    "import numpy as np"
   ]
  },
  {
   "cell_type": "code",
   "execution_count": 2,
   "id": "479c653b-fa55-4b6b-bdbc-7824e054b9f2",
   "metadata": {},
   "outputs": [
    {
     "data": {
      "text/plain": [
       "array([3, 4])"
      ]
     },
     "execution_count": 2,
     "metadata": {},
     "output_type": "execute_result"
    }
   ],
   "source": [
    "np.array((3,4))"
   ]
  },
  {
   "cell_type": "code",
   "execution_count": 3,
   "id": "b3d6e240-d324-4433-b3e8-45fe95dd7058",
   "metadata": {},
   "outputs": [
    {
     "data": {
      "text/plain": [
       "array([[4.64081551e-310, 0.00000000e+000, 1.01855798e-312,\n",
       "        9.54898106e-313],\n",
       "       [1.03977794e-312, 1.01855798e-312, 1.23075756e-312,\n",
       "        1.06099790e-312],\n",
       "       [1.08221785e-312, 9.76118064e-313, 1.10343781e-312,\n",
       "        1.90979621e-312]])"
      ]
     },
     "execution_count": 3,
     "metadata": {},
     "output_type": "execute_result"
    }
   ],
   "source": [
    "np.empty((3,4))"
   ]
  },
  {
   "cell_type": "code",
   "execution_count": 4,
   "id": "2f9bab4b-b51f-4404-b0db-33b783254458",
   "metadata": {},
   "outputs": [
    {
     "data": {
      "text/plain": [
       "array([[1., 0., 0., 0., 0.],\n",
       "       [0., 1., 0., 0., 0.],\n",
       "       [0., 0., 1., 0., 0.],\n",
       "       [0., 0., 0., 1., 0.],\n",
       "       [0., 0., 0., 0., 1.]])"
      ]
     },
     "execution_count": 4,
     "metadata": {},
     "output_type": "execute_result"
    }
   ],
   "source": [
    "\n",
    "\n",
    "np.eye(5)"
   ]
  },
  {
   "cell_type": "code",
   "execution_count": 5,
   "id": "9801c4b8-42a0-4984-a2a5-9236ad37fd8a",
   "metadata": {},
   "outputs": [
    {
     "data": {
      "text/plain": [
       "array([[1., 0., 0.],\n",
       "       [0., 1., 0.],\n",
       "       [0., 0., 1.]])"
      ]
     },
     "execution_count": 5,
     "metadata": {},
     "output_type": "execute_result"
    }
   ],
   "source": [
    "np.eye(3)"
   ]
  },
  {
   "cell_type": "code",
   "execution_count": 7,
   "id": "ecd7addc-db32-4fa0-b5e0-5eceb5892432",
   "metadata": {},
   "outputs": [],
   "source": [
    "arr1= np.eye(3)"
   ]
  },
  {
   "cell_type": "code",
   "execution_count": 8,
   "id": "7ec3eeb6-f9ac-42cd-bb3c-e86aec8c7970",
   "metadata": {},
   "outputs": [
    {
     "data": {
      "text/plain": [
       "array([[1., 0., 0.],\n",
       "       [0., 1., 0.],\n",
       "       [0., 0., 1.]])"
      ]
     },
     "execution_count": 8,
     "metadata": {},
     "output_type": "execute_result"
    }
   ],
   "source": [
    "arr1"
   ]
  },
  {
   "cell_type": "code",
   "execution_count": 9,
   "id": "e926d8be-460b-4a7e-a91a-2f4665ac6dc6",
   "metadata": {},
   "outputs": [
    {
     "data": {
      "text/plain": [
       "array([[5., 0., 0.],\n",
       "       [0., 5., 0.],\n",
       "       [0., 0., 5.]])"
      ]
     },
     "execution_count": 9,
     "metadata": {},
     "output_type": "execute_result"
    }
   ],
   "source": [
    "arr1*5"
   ]
  },
  {
   "cell_type": "code",
   "execution_count": 10,
   "id": "12f21c39-533d-43d3-b0c4-7c8726ff1455",
   "metadata": {},
   "outputs": [
    {
     "data": {
      "text/plain": [
       "array([[6., 5., 5.],\n",
       "       [5., 6., 5.],\n",
       "       [5., 5., 6.]])"
      ]
     },
     "execution_count": 10,
     "metadata": {},
     "output_type": "execute_result"
    }
   ],
   "source": [
    "arr1+5"
   ]
  },
  {
   "cell_type": "code",
   "execution_count": 11,
   "id": "efaba0a9-4b5c-4429-a5fc-cafd61559199",
   "metadata": {},
   "outputs": [
    {
     "data": {
      "text/plain": [
       "array([[1, 0, 0],\n",
       "       [0, 1, 0],\n",
       "       [0, 0, 1]])"
      ]
     },
     "execution_count": 11,
     "metadata": {},
     "output_type": "execute_result"
    }
   ],
   "source": [
    "np.eye(3, dtype = int)"
   ]
  },
  {
   "cell_type": "code",
   "execution_count": 12,
   "id": "a46ff67a-7474-4317-a4d8-e0a52c138272",
   "metadata": {},
   "outputs": [
    {
     "data": {
      "text/plain": [
       "array([['1', '', ''],\n",
       "       ['', '1', ''],\n",
       "       ['', '', '1']], dtype='<U1')"
      ]
     },
     "execution_count": 12,
     "metadata": {},
     "output_type": "execute_result"
    }
   ],
   "source": [
    "np.eye(3, dtype = str)"
   ]
  },
  {
   "cell_type": "code",
   "execution_count": 13,
   "id": "bf1aa12a-f8c5-45b8-b334-c058b769d66e",
   "metadata": {},
   "outputs": [],
   "source": [
    "import pandas as pd"
   ]
  },
  {
   "cell_type": "code",
   "execution_count": 14,
   "id": "1a9efb47-58f8-40de-8e66-4b14232d5dba",
   "metadata": {},
   "outputs": [
    {
     "data": {
      "text/html": [
       "<div>\n",
       "<style scoped>\n",
       "    .dataframe tbody tr th:only-of-type {\n",
       "        vertical-align: middle;\n",
       "    }\n",
       "\n",
       "    .dataframe tbody tr th {\n",
       "        vertical-align: top;\n",
       "    }\n",
       "\n",
       "    .dataframe thead th {\n",
       "        text-align: right;\n",
       "    }\n",
       "</style>\n",
       "<table border=\"1\" class=\"dataframe\">\n",
       "  <thead>\n",
       "    <tr style=\"text-align: right;\">\n",
       "      <th></th>\n",
       "      <th>0</th>\n",
       "      <th>1</th>\n",
       "      <th>2</th>\n",
       "    </tr>\n",
       "  </thead>\n",
       "  <tbody>\n",
       "    <tr>\n",
       "      <th>0</th>\n",
       "      <td>1.0</td>\n",
       "      <td>0.0</td>\n",
       "      <td>0.0</td>\n",
       "    </tr>\n",
       "    <tr>\n",
       "      <th>1</th>\n",
       "      <td>0.0</td>\n",
       "      <td>1.0</td>\n",
       "      <td>0.0</td>\n",
       "    </tr>\n",
       "    <tr>\n",
       "      <th>2</th>\n",
       "      <td>0.0</td>\n",
       "      <td>0.0</td>\n",
       "      <td>1.0</td>\n",
       "    </tr>\n",
       "  </tbody>\n",
       "</table>\n",
       "</div>"
      ],
      "text/plain": [
       "     0    1    2\n",
       "0  1.0  0.0  0.0\n",
       "1  0.0  1.0  0.0\n",
       "2  0.0  0.0  1.0"
      ]
     },
     "execution_count": 14,
     "metadata": {},
     "output_type": "execute_result"
    }
   ],
   "source": [
    "pd.DataFrame(arr1)# Concerting Array in data frame"
   ]
  },
  {
   "cell_type": "code",
   "execution_count": 15,
   "id": "46d48510-f17d-4e96-be88-716a772b2d46",
   "metadata": {},
   "outputs": [],
   "source": [
    "import random"
   ]
  },
  {
   "cell_type": "code",
   "execution_count": 16,
   "id": "c76226e0-1e80-440a-9737-71ddc8fd1943",
   "metadata": {},
   "outputs": [
    {
     "data": {
      "text/plain": [
       "1"
      ]
     },
     "execution_count": 16,
     "metadata": {},
     "output_type": "execute_result"
    }
   ],
   "source": [
    "random.choice((1,2,3,4,5,6))"
   ]
  },
  {
   "cell_type": "code",
   "execution_count": 17,
   "id": "d7acf2a9-ac99-433d-8d37-6f2527b1d943",
   "metadata": {},
   "outputs": [
    {
     "data": {
      "text/plain": [
       "6"
      ]
     },
     "execution_count": 17,
     "metadata": {},
     "output_type": "execute_result"
    }
   ],
   "source": [
    "random.choice((1,2,3,4,5,6))"
   ]
  },
  {
   "cell_type": "code",
   "execution_count": 18,
   "id": "45a7cac6-dde0-419f-b2a9-acc7c1980cfa",
   "metadata": {},
   "outputs": [
    {
     "data": {
      "text/plain": [
       "6"
      ]
     },
     "execution_count": 18,
     "metadata": {},
     "output_type": "execute_result"
    }
   ],
   "source": [
    "random.choice((1,2,3,4,5,6))"
   ]
  },
  {
   "cell_type": "code",
   "execution_count": 19,
   "id": "d01c8d74-9958-45db-87b1-0fb6a412e4ba",
   "metadata": {},
   "outputs": [
    {
     "data": {
      "text/plain": [
       "6"
      ]
     },
     "execution_count": 19,
     "metadata": {},
     "output_type": "execute_result"
    }
   ],
   "source": [
    "random.choice((1,2,3,4,5,6))"
   ]
  },
  {
   "cell_type": "code",
   "execution_count": 20,
   "id": "77cef382-6b12-4a61-8e63-d39e97438be2",
   "metadata": {},
   "outputs": [
    {
     "data": {
      "text/plain": [
       "6"
      ]
     },
     "execution_count": 20,
     "metadata": {},
     "output_type": "execute_result"
    }
   ],
   "source": [
    "random.choice((1,2,3,4,5,6))"
   ]
  },
  {
   "cell_type": "code",
   "execution_count": 21,
   "id": "d70e83cb-7eae-4c6d-a7b8-e3a6ba15af9e",
   "metadata": {},
   "outputs": [
    {
     "data": {
      "text/plain": [
       "3"
      ]
     },
     "execution_count": 21,
     "metadata": {},
     "output_type": "execute_result"
    }
   ],
   "source": [
    "random.choice((1,2,3,4,5,6))"
   ]
  },
  {
   "cell_type": "code",
   "execution_count": 22,
   "id": "21866c2b-dafe-4448-952a-cc7423d56711",
   "metadata": {},
   "outputs": [
    {
     "data": {
      "text/plain": [
       "5"
      ]
     },
     "execution_count": 22,
     "metadata": {},
     "output_type": "execute_result"
    }
   ],
   "source": [
    "random.choice((1,2,3,4,5,6,\"hi\"))"
   ]
  },
  {
   "cell_type": "code",
   "execution_count": null,
   "id": "09991476-7d1d-483b-9ddb-b1b28963c411",
   "metadata": {},
   "outputs": [],
   "source": []
  },
  {
   "cell_type": "code",
   "execution_count": 23,
   "id": "445b3121-7855-43e1-a7ab-12daddb6c909",
   "metadata": {},
   "outputs": [
    {
     "data": {
      "text/plain": [
       "4"
      ]
     },
     "execution_count": 23,
     "metadata": {},
     "output_type": "execute_result"
    }
   ],
   "source": [
    "random.choice((1,2,3,4,5,6,\"hello\"))"
   ]
  },
  {
   "cell_type": "code",
   "execution_count": 24,
   "id": "cd055ae9-c83f-4426-b86f-ddcbdd73e002",
   "metadata": {},
   "outputs": [
    {
     "data": {
      "text/plain": [
       "'S'"
      ]
     },
     "execution_count": 24,
     "metadata": {},
     "output_type": "execute_result"
    }
   ],
   "source": [
    "random.choice('Sumit')"
   ]
  },
  {
   "cell_type": "code",
   "execution_count": 25,
   "id": "49fb08f6-a03b-4f2f-a530-29ced9656073",
   "metadata": {},
   "outputs": [
    {
     "data": {
      "text/plain": [
       "'u'"
      ]
     },
     "execution_count": 25,
     "metadata": {},
     "output_type": "execute_result"
    }
   ],
   "source": [
    "random.choice('Sumit')"
   ]
  },
  {
   "cell_type": "code",
   "execution_count": 26,
   "id": "e1c28bca-e8a2-4b0b-b239-201d48ab703d",
   "metadata": {},
   "outputs": [
    {
     "data": {
      "text/plain": [
       "457"
      ]
     },
     "execution_count": 26,
     "metadata": {},
     "output_type": "execute_result"
    }
   ],
   "source": [
    "random.randrange(1, 1000)"
   ]
  },
  {
   "cell_type": "code",
   "execution_count": 27,
   "id": "59a7e95c-eb1f-4cca-841c-2745c06c25f0",
   "metadata": {},
   "outputs": [
    {
     "data": {
      "text/plain": [
       "906"
      ]
     },
     "execution_count": 27,
     "metadata": {},
     "output_type": "execute_result"
    }
   ],
   "source": [
    "random.randrange(1, 1000)"
   ]
  },
  {
   "cell_type": "code",
   "execution_count": 28,
   "id": "faeff9fc-54ad-487a-8cca-079990fc4ad2",
   "metadata": {},
   "outputs": [
    {
     "data": {
      "text/plain": [
       "0.8595509179536015"
      ]
     },
     "execution_count": 28,
     "metadata": {},
     "output_type": "execute_result"
    }
   ],
   "source": [
    "random.random() # a random generated a number b/w 0 & 1 (o included ,1 excluded)"
   ]
  },
  {
   "cell_type": "code",
   "execution_count": 29,
   "id": "7db724a2-c6a7-434a-8b25-941b0e876225",
   "metadata": {},
   "outputs": [
    {
     "data": {
      "text/plain": [
       "0.2047333975875809"
      ]
     },
     "execution_count": 29,
     "metadata": {},
     "output_type": "execute_result"
    }
   ],
   "source": [
    "random.random()"
   ]
  },
  {
   "cell_type": "code",
   "execution_count": 30,
   "id": "fe6bfa4a-1d3b-435d-8ab5-3c6a98249b0f",
   "metadata": {},
   "outputs": [],
   "source": [
    "lis = [1,2,3,4,5,6,7,6,8,6]\n",
    "random.shuffle(lis)"
   ]
  },
  {
   "cell_type": "code",
   "execution_count": 31,
   "id": "50207987-7a5e-487c-a8ac-e25c0a15baf7",
   "metadata": {},
   "outputs": [
    {
     "data": {
      "text/plain": [
       "[8, 6, 5, 2, 1, 3, 6, 7, 6, 4]"
      ]
     },
     "execution_count": 31,
     "metadata": {},
     "output_type": "execute_result"
    }
   ],
   "source": [
    "lis"
   ]
  },
  {
   "cell_type": "code",
   "execution_count": 34,
   "id": "f1d2bb48-08fd-48e9-b53d-4a4837052110",
   "metadata": {},
   "outputs": [
    {
     "data": {
      "text/plain": [
       "7.007020889295757"
      ]
     },
     "execution_count": 34,
     "metadata": {},
     "output_type": "execute_result"
    }
   ],
   "source": [
    "random.uniform(7,14) # number b/w 7, 14"
   ]
  },
  {
   "cell_type": "code",
   "execution_count": 33,
   "id": "958ef9ba-7616-4d26-a0ac-a3408effd6fa",
   "metadata": {},
   "outputs": [
    {
     "data": {
      "text/plain": [
       "8.912657284416648"
      ]
     },
     "execution_count": 33,
     "metadata": {},
     "output_type": "execute_result"
    }
   ],
   "source": [
    "random.uniform(7,14)"
   ]
  },
  {
   "cell_type": "code",
   "execution_count": 36,
   "id": "af132498-60a7-4705-904d-87fbcab31b3f",
   "metadata": {},
   "outputs": [
    {
     "data": {
      "text/plain": [
       "array([[0.5615284 , 0.88653098, 0.45270759],\n",
       "       [0.42189978, 0.1932554 , 0.88255452]])"
      ]
     },
     "execution_count": 36,
     "metadata": {},
     "output_type": "execute_result"
    }
   ],
   "source": [
    "#Numpy \n",
    "\n",
    "np.random.rand(2,3)"
   ]
  },
  {
   "cell_type": "code",
   "execution_count": 37,
   "id": "9c720993-6797-4f6f-8c3a-a318f5dee57c",
   "metadata": {},
   "outputs": [
    {
     "data": {
      "text/plain": [
       "array([[-0.25813843, -0.46763066, -1.72737322],\n",
       "       [ 1.13971695,  0.21494536, -0.13437271]])"
      ]
     },
     "execution_count": 37,
     "metadata": {},
     "output_type": "execute_result"
    }
   ],
   "source": [
    "np.random.randn(2,3)"
   ]
  },
  {
   "cell_type": "code",
   "execution_count": 38,
   "id": "cfc6a2ec-9c98-4d72-917f-1196e8d8f11f",
   "metadata": {},
   "outputs": [
    {
     "data": {
      "text/plain": [
       "0.796320475500212"
      ]
     },
     "execution_count": 38,
     "metadata": {},
     "output_type": "execute_result"
    }
   ],
   "source": [
    "np.random.random_sample()"
   ]
  },
  {
   "cell_type": "code",
   "execution_count": 39,
   "id": "9cc20633-f42f-4275-a735-bdf7bb4a60a1",
   "metadata": {},
   "outputs": [
    {
     "data": {
      "text/plain": [
       "array([[2, 3, 1, 4],\n",
       "       [2, 4, 3, 3],\n",
       "       [3, 3, 4, 2]])"
      ]
     },
     "execution_count": 39,
     "metadata": {},
     "output_type": "execute_result"
    }
   ],
   "source": [
    "np.random.randint(1,5, size = (3,4))"
   ]
  },
  {
   "cell_type": "code",
   "execution_count": 40,
   "id": "2b03a35e-1e3c-4680-a2ab-12348da2ca65",
   "metadata": {},
   "outputs": [],
   "source": [
    "arr2 = np.random.randint(1,5, size = (3,4))"
   ]
  },
  {
   "cell_type": "code",
   "execution_count": 41,
   "id": "f949555b-e832-43b6-80d5-c286b5daf127",
   "metadata": {},
   "outputs": [
    {
     "data": {
      "text/plain": [
       "array([[3, 3, 1, 1],\n",
       "       [1, 3, 2, 2],\n",
       "       [2, 4, 2, 2]])"
      ]
     },
     "execution_count": 41,
     "metadata": {},
     "output_type": "execute_result"
    }
   ],
   "source": [
    "arr2"
   ]
  },
  {
   "cell_type": "code",
   "execution_count": 42,
   "id": "cccd8cf5-da22-438a-9e6b-e5c52d1da732",
   "metadata": {},
   "outputs": [
    {
     "data": {
      "text/plain": [
       "12"
      ]
     },
     "execution_count": 42,
     "metadata": {},
     "output_type": "execute_result"
    }
   ],
   "source": [
    "arr2.size"
   ]
  },
  {
   "cell_type": "code",
   "execution_count": 43,
   "id": "09843a83-28de-430c-8afb-f9b1c79bf700",
   "metadata": {},
   "outputs": [
    {
     "data": {
      "text/plain": [
       "(3, 4)"
      ]
     },
     "execution_count": 43,
     "metadata": {},
     "output_type": "execute_result"
    }
   ],
   "source": [
    "arr2.shape"
   ]
  },
  {
   "cell_type": "code",
   "execution_count": 44,
   "id": "c6fd8c21-9459-49e6-b9aa-537b8d5564ca",
   "metadata": {},
   "outputs": [
    {
     "data": {
      "text/plain": [
       "2"
      ]
     },
     "execution_count": 44,
     "metadata": {},
     "output_type": "execute_result"
    }
   ],
   "source": [
    "arr2.ndim"
   ]
  },
  {
   "cell_type": "code",
   "execution_count": 45,
   "id": "d0415096-11ae-4e14-a840-52c21f143c57",
   "metadata": {},
   "outputs": [
    {
     "data": {
      "text/plain": [
       "array([[3, 3, 1, 1, 1, 3],\n",
       "       [2, 2, 2, 4, 2, 2]])"
      ]
     },
     "execution_count": 45,
     "metadata": {},
     "output_type": "execute_result"
    }
   ],
   "source": [
    "arr2.reshape(2,6)"
   ]
  },
  {
   "cell_type": "code",
   "execution_count": 49,
   "id": "a2e11589-d0ae-4764-b618-23e93b7cd09b",
   "metadata": {},
   "outputs": [
    {
     "ename": "ValueError",
     "evalue": "cannot reshape array of size 12 into shape (2,1)",
     "output_type": "error",
     "traceback": [
      "\u001b[0;31m---------------------------------------------------------------------------\u001b[0m",
      "\u001b[0;31mValueError\u001b[0m                                Traceback (most recent call last)",
      "Cell \u001b[0;32mIn[49], line 1\u001b[0m\n\u001b[0;32m----> 1\u001b[0m \u001b[43marr2\u001b[49m\u001b[38;5;241;43m.\u001b[39;49m\u001b[43mreshape\u001b[49m\u001b[43m(\u001b[49m\u001b[38;5;241;43m2\u001b[39;49m\u001b[43m,\u001b[49m\u001b[38;5;241;43m1\u001b[39;49m\u001b[43m)\u001b[49m \u001b[38;5;66;03m# arr2 size is 12 hence it can accomdate in (2,6) or (6,2) size\u001b[39;00m\n",
      "\u001b[0;31mValueError\u001b[0m: cannot reshape array of size 12 into shape (2,1)"
     ]
    }
   ],
   "source": [
    "arr2.reshape(2,1) # arr2 size is 12 hence it can accomdate in (2,6) or (6,2) or (4,3) or (12) or (12,)size , means multiple of array size"
   ]
  },
  {
   "cell_type": "code",
   "execution_count": 47,
   "id": "1ffe60d4-c69c-4407-a21b-ccf0773f9d20",
   "metadata": {},
   "outputs": [
    {
     "ename": "ValueError",
     "evalue": "cannot reshape array of size 12 into shape (2,8)",
     "output_type": "error",
     "traceback": [
      "\u001b[0;31m---------------------------------------------------------------------------\u001b[0m",
      "\u001b[0;31mValueError\u001b[0m                                Traceback (most recent call last)",
      "Cell \u001b[0;32mIn[47], line 1\u001b[0m\n\u001b[0;32m----> 1\u001b[0m \u001b[43marr2\u001b[49m\u001b[38;5;241;43m.\u001b[39;49m\u001b[43mreshape\u001b[49m\u001b[43m(\u001b[49m\u001b[38;5;241;43m2\u001b[39;49m\u001b[43m,\u001b[49m\u001b[38;5;241;43m8\u001b[39;49m\u001b[43m)\u001b[49m\n",
      "\u001b[0;31mValueError\u001b[0m: cannot reshape array of size 12 into shape (2,8)"
     ]
    }
   ],
   "source": [
    "arr2.reshape(2,8)"
   ]
  },
  {
   "cell_type": "code",
   "execution_count": 48,
   "id": "816322bc-f618-4b9e-8b08-6e381bc21542",
   "metadata": {},
   "outputs": [
    {
     "ename": "ValueError",
     "evalue": "cannot reshape array of size 12 into shape (2,7)",
     "output_type": "error",
     "traceback": [
      "\u001b[0;31m---------------------------------------------------------------------------\u001b[0m",
      "\u001b[0;31mValueError\u001b[0m                                Traceback (most recent call last)",
      "Cell \u001b[0;32mIn[48], line 1\u001b[0m\n\u001b[0;32m----> 1\u001b[0m \u001b[43marr2\u001b[49m\u001b[38;5;241;43m.\u001b[39;49m\u001b[43mreshape\u001b[49m\u001b[43m(\u001b[49m\u001b[38;5;241;43m2\u001b[39;49m\u001b[43m,\u001b[49m\u001b[38;5;241;43m7\u001b[39;49m\u001b[43m)\u001b[49m\n",
      "\u001b[0;31mValueError\u001b[0m: cannot reshape array of size 12 into shape (2,7)"
     ]
    }
   ],
   "source": [
    "arr2.reshape(2,7)"
   ]
  },
  {
   "cell_type": "code",
   "execution_count": 50,
   "id": "0cf39717-9067-4685-9bed-b9e27540c442",
   "metadata": {},
   "outputs": [
    {
     "data": {
      "text/plain": [
       "array([[3, 3],\n",
       "       [1, 1],\n",
       "       [1, 3],\n",
       "       [2, 2],\n",
       "       [2, 4],\n",
       "       [2, 2]])"
      ]
     },
     "execution_count": 50,
     "metadata": {},
     "output_type": "execute_result"
    }
   ],
   "source": [
    "arr2.reshape(6,2)"
   ]
  },
  {
   "cell_type": "code",
   "execution_count": 51,
   "id": "1f6c58d4-d9c5-496d-bbf1-847c9f5eae3f",
   "metadata": {},
   "outputs": [
    {
     "data": {
      "text/plain": [
       "array([3, 3, 1, 1, 1, 3, 2, 2, 2, 4, 2, 2])"
      ]
     },
     "execution_count": 51,
     "metadata": {},
     "output_type": "execute_result"
    }
   ],
   "source": [
    "arr2.reshape(12,)"
   ]
  },
  {
   "cell_type": "code",
   "execution_count": 53,
   "id": "ea2e8e6c-1aee-4245-bbf9-4b542982091b",
   "metadata": {},
   "outputs": [
    {
     "data": {
      "text/plain": [
       "array([3, 3, 1, 1, 1, 3, 2, 2, 2, 4, 2, 2])"
      ]
     },
     "execution_count": 53,
     "metadata": {},
     "output_type": "execute_result"
    }
   ],
   "source": [
    "arr2.reshape(12)"
   ]
  },
  {
   "cell_type": "code",
   "execution_count": 54,
   "id": "26903ee6-28a8-4e74-91c3-11c40fc19650",
   "metadata": {},
   "outputs": [
    {
     "data": {
      "text/plain": [
       "array([[3, 3, 1],\n",
       "       [1, 1, 3],\n",
       "       [2, 2, 2],\n",
       "       [4, 2, 2]])"
      ]
     },
     "execution_count": 54,
     "metadata": {},
     "output_type": "execute_result"
    }
   ],
   "source": [
    "arr2.reshape(4,3)"
   ]
  },
  {
   "cell_type": "code",
   "execution_count": 55,
   "id": "63b005e1-f618-4eb3-8907-4141fd1bd373",
   "metadata": {},
   "outputs": [
    {
     "data": {
      "text/plain": [
       "array([[3, 3, 1],\n",
       "       [1, 1, 3],\n",
       "       [2, 2, 2],\n",
       "       [4, 2, 2]])"
      ]
     },
     "execution_count": 55,
     "metadata": {},
     "output_type": "execute_result"
    }
   ],
   "source": [
    "arr2.reshape(4, -1)"
   ]
  },
  {
   "cell_type": "code",
   "execution_count": 56,
   "id": "606d195d-10d9-417c-89ef-b3a4bf220c92",
   "metadata": {},
   "outputs": [
    {
     "data": {
      "text/plain": [
       "array([[3, 3, 1],\n",
       "       [1, 1, 3],\n",
       "       [2, 2, 2],\n",
       "       [4, 2, 2]])"
      ]
     },
     "execution_count": 56,
     "metadata": {},
     "output_type": "execute_result"
    }
   ],
   "source": [
    "arr2.reshape(4, -100)"
   ]
  },
  {
   "cell_type": "code",
   "execution_count": null,
   "id": "bb8e34c3-2ae8-409e-9063-73524a71e00e",
   "metadata": {},
   "outputs": [],
   "source": [
    "arr2.reshape(3, -1)"
   ]
  },
  {
   "cell_type": "code",
   "execution_count": 58,
   "id": "46e67550-b140-4ec9-a86e-594263d1fd95",
   "metadata": {},
   "outputs": [
    {
     "ename": "ValueError",
     "evalue": "cannot reshape array of size 12 into shape (5)",
     "output_type": "error",
     "traceback": [
      "\u001b[0;31m---------------------------------------------------------------------------\u001b[0m",
      "\u001b[0;31mValueError\u001b[0m                                Traceback (most recent call last)",
      "Cell \u001b[0;32mIn[58], line 1\u001b[0m\n\u001b[0;32m----> 1\u001b[0m \u001b[43marr2\u001b[49m\u001b[38;5;241;43m.\u001b[39;49m\u001b[43mreshape\u001b[49m\u001b[43m(\u001b[49m\u001b[38;5;241;43m-\u001b[39;49m\u001b[38;5;241;43m1\u001b[39;49m\u001b[43m,\u001b[49m\u001b[38;5;241;43m5\u001b[39;49m\u001b[43m)\u001b[49m\n",
      "\u001b[0;31mValueError\u001b[0m: cannot reshape array of size 12 into shape (5)"
     ]
    }
   ],
   "source": [
    "arr2.reshape(-1,5)"
   ]
  },
  {
   "cell_type": "code",
   "execution_count": 59,
   "id": "c4c1c092-1346-44bd-a3b7-b0d090355a5d",
   "metadata": {},
   "outputs": [
    {
     "ename": "ValueError",
     "evalue": "can only specify one unknown dimension",
     "output_type": "error",
     "traceback": [
      "\u001b[0;31m---------------------------------------------------------------------------\u001b[0m",
      "\u001b[0;31mValueError\u001b[0m                                Traceback (most recent call last)",
      "Cell \u001b[0;32mIn[59], line 1\u001b[0m\n\u001b[0;32m----> 1\u001b[0m \u001b[43marr2\u001b[49m\u001b[38;5;241;43m.\u001b[39;49m\u001b[43mreshape\u001b[49m\u001b[43m(\u001b[49m\u001b[38;5;241;43m-\u001b[39;49m\u001b[38;5;241;43m3\u001b[39;49m\u001b[43m,\u001b[49m\u001b[43m \u001b[49m\u001b[38;5;241;43m-\u001b[39;49m\u001b[38;5;241;43m4\u001b[39;49m\u001b[43m)\u001b[49m\n",
      "\u001b[0;31mValueError\u001b[0m: can only specify one unknown dimension"
     ]
    }
   ],
   "source": [
    "arr2.reshape(-3, -4)"
   ]
  },
  {
   "cell_type": "code",
   "execution_count": 60,
   "id": "25f934f6-3a88-42d9-aeb3-64942a6dd875",
   "metadata": {},
   "outputs": [
    {
     "data": {
      "text/plain": [
       "array([[3, 3, 1, 1],\n",
       "       [1, 3, 2, 2],\n",
       "       [2, 4, 2, 2]])"
      ]
     },
     "execution_count": 60,
     "metadata": {},
     "output_type": "execute_result"
    }
   ],
   "source": [
    "arr2.reshape(-3, 4)"
   ]
  },
  {
   "cell_type": "code",
   "execution_count": 61,
   "id": "a91642b2-c88e-4233-bf22-0d0c9d61a949",
   "metadata": {},
   "outputs": [
    {
     "data": {
      "text/plain": [
       "array([[3, 3, 1, 1],\n",
       "       [1, 3, 2, 2],\n",
       "       [2, 4, 2, 2]])"
      ]
     },
     "execution_count": 61,
     "metadata": {},
     "output_type": "execute_result"
    }
   ],
   "source": [
    "arr2.reshape(3, 4).base"
   ]
  },
  {
   "cell_type": "code",
   "execution_count": 62,
   "id": "199bcabf-4bdf-4202-99d7-7d201db6e612",
   "metadata": {},
   "outputs": [
    {
     "data": {
      "text/plain": [
       "array([[3, 3, 1, 1],\n",
       "       [1, 3, 2, 2],\n",
       "       [2, 4, 2, 2]])"
      ]
     },
     "execution_count": 62,
     "metadata": {},
     "output_type": "execute_result"
    }
   ],
   "source": [
    "arr2.reshape(3, 4)"
   ]
  },
  {
   "cell_type": "code",
   "execution_count": 63,
   "id": "cc6bc40d-40ab-4676-910d-ffde8976bfde",
   "metadata": {},
   "outputs": [
    {
     "data": {
      "text/plain": [
       "array([[3, 3, 1, 1],\n",
       "       [1, 3, 2, 2],\n",
       "       [2, 4, 2, 2]])"
      ]
     },
     "execution_count": 63,
     "metadata": {},
     "output_type": "execute_result"
    }
   ],
   "source": [
    "arr2.reshape(12, 1).base"
   ]
  },
  {
   "cell_type": "code",
   "execution_count": 64,
   "id": "432c139a-7d38-44d8-9676-7fd3e14d29f1",
   "metadata": {},
   "outputs": [
    {
     "data": {
      "text/plain": [
       "array([[3],\n",
       "       [3],\n",
       "       [1],\n",
       "       [1],\n",
       "       [1],\n",
       "       [3],\n",
       "       [2],\n",
       "       [2],\n",
       "       [2],\n",
       "       [4],\n",
       "       [2],\n",
       "       [2]])"
      ]
     },
     "execution_count": 64,
     "metadata": {},
     "output_type": "execute_result"
    }
   ],
   "source": [
    "arr2.reshape(12, 1)"
   ]
  },
  {
   "cell_type": "code",
   "execution_count": 65,
   "id": "1fbd22b4-e239-42a1-8436-135d6e47cc0c",
   "metadata": {},
   "outputs": [
    {
     "data": {
      "text/plain": [
       "array([[3, 3, 1, 1],\n",
       "       [1, 3, 2, 2],\n",
       "       [2, 4, 2, 2]])"
      ]
     },
     "execution_count": 65,
     "metadata": {},
     "output_type": "execute_result"
    }
   ],
   "source": [
    "arr2.reshape(12, 1).base"
   ]
  },
  {
   "cell_type": "code",
   "execution_count": 66,
   "id": "338a86fb-6ad1-4176-9bd5-546fd4ace36b",
   "metadata": {},
   "outputs": [
    {
     "data": {
      "text/plain": [
       "array([[3, 3, 1, 1],\n",
       "       [1, 3, 2, 2],\n",
       "       [2, 4, 2, 2]])"
      ]
     },
     "execution_count": 66,
     "metadata": {},
     "output_type": "execute_result"
    }
   ],
   "source": [
    "arr2"
   ]
  },
  {
   "cell_type": "code",
   "execution_count": 68,
   "id": "0744f7be-7155-4e15-ae1b-ebd53ecb4db5",
   "metadata": {},
   "outputs": [
    {
     "data": {
      "text/plain": [
       "array([[[3, 3, 1],\n",
       "        [1, 1, 3]],\n",
       "\n",
       "       [[2, 2, 2],\n",
       "        [4, 2, 2]]])"
      ]
     },
     "execution_count": 68,
     "metadata": {},
     "output_type": "execute_result"
    }
   ],
   "source": [
    "arr2.reshape(2,2,3)"
   ]
  },
  {
   "cell_type": "code",
   "execution_count": 71,
   "id": "65b6f939-812a-403d-a28b-4ce202dc3821",
   "metadata": {},
   "outputs": [
    {
     "data": {
      "text/plain": [
       "array([[[3, 3],\n",
       "        [1, 1],\n",
       "        [1, 3]],\n",
       "\n",
       "       [[2, 2],\n",
       "        [2, 4],\n",
       "        [2, 2]]])"
      ]
     },
     "execution_count": 71,
     "metadata": {},
     "output_type": "execute_result"
    }
   ],
   "source": [
    "arr2.reshape(2,3,2)"
   ]
  },
  {
   "cell_type": "code",
   "execution_count": 72,
   "id": "f39e3779-ba4c-40d6-8165-f386b386ee1f",
   "metadata": {},
   "outputs": [
    {
     "data": {
      "text/plain": [
       "array([[[[3, 3, 1],\n",
       "         [1, 1, 3]],\n",
       "\n",
       "        [[2, 2, 2],\n",
       "         [4, 2, 2]]]])"
      ]
     },
     "execution_count": 72,
     "metadata": {},
     "output_type": "execute_result"
    }
   ],
   "source": [
    "arr2.reshape(1,2,2,3)"
   ]
  },
  {
   "cell_type": "code",
   "execution_count": 73,
   "id": "7c74ea3e-1941-425a-a219-d7df6fc13a51",
   "metadata": {},
   "outputs": [
    {
     "data": {
      "text/plain": [
       "array([[[3],\n",
       "        [3],\n",
       "        [1]],\n",
       "\n",
       "       [[1],\n",
       "        [1],\n",
       "        [3]],\n",
       "\n",
       "       [[2],\n",
       "        [2],\n",
       "        [2]],\n",
       "\n",
       "       [[4],\n",
       "        [2],\n",
       "        [2]]])"
      ]
     },
     "execution_count": 73,
     "metadata": {},
     "output_type": "execute_result"
    }
   ],
   "source": [
    "arr2.reshape(4,3,1)"
   ]
  },
  {
   "cell_type": "code",
   "execution_count": 75,
   "id": "52fe3ffc-0a22-4d31-980d-ecd1da52b658",
   "metadata": {},
   "outputs": [
    {
     "ename": "ValueError",
     "evalue": "cannot reshape array of size 9 into shape (1,1,1,1,1,1,1,1,1,1,1,2,2,3)",
     "output_type": "error",
     "traceback": [
      "\u001b[0;31m---------------------------------------------------------------------------\u001b[0m",
      "\u001b[0;31mValueError\u001b[0m                                Traceback (most recent call last)",
      "Cell \u001b[0;32mIn[75], line 1\u001b[0m\n\u001b[0;32m----> 1\u001b[0m \u001b[43marr1\u001b[49m\u001b[38;5;241;43m.\u001b[39;49m\u001b[43mreshape\u001b[49m\u001b[43m(\u001b[49m\u001b[38;5;241;43m1\u001b[39;49m\u001b[43m,\u001b[49m\u001b[38;5;241;43m1\u001b[39;49m\u001b[43m,\u001b[49m\u001b[38;5;241;43m1\u001b[39;49m\u001b[43m,\u001b[49m\u001b[38;5;241;43m1\u001b[39;49m\u001b[43m,\u001b[49m\u001b[38;5;241;43m1\u001b[39;49m\u001b[43m,\u001b[49m\u001b[38;5;241;43m1\u001b[39;49m\u001b[43m,\u001b[49m\u001b[38;5;241;43m1\u001b[39;49m\u001b[43m,\u001b[49m\u001b[38;5;241;43m1\u001b[39;49m\u001b[43m,\u001b[49m\u001b[38;5;241;43m1\u001b[39;49m\u001b[43m,\u001b[49m\u001b[38;5;241;43m1\u001b[39;49m\u001b[43m,\u001b[49m\u001b[38;5;241;43m1\u001b[39;49m\u001b[43m,\u001b[49m\u001b[38;5;241;43m2\u001b[39;49m\u001b[43m,\u001b[49m\u001b[38;5;241;43m2\u001b[39;49m\u001b[43m,\u001b[49m\u001b[38;5;241;43m3\u001b[39;49m\u001b[43m)\u001b[49m\n",
      "\u001b[0;31mValueError\u001b[0m: cannot reshape array of size 9 into shape (1,1,1,1,1,1,1,1,1,1,1,2,2,3)"
     ]
    }
   ],
   "source": [
    "arr1.reshape(1,1,1,1,1,1,1,1,1,1,1,2,2,3)"
   ]
  },
  {
   "cell_type": "code",
   "execution_count": 76,
   "id": "da92e93c-5b10-423c-b0e4-aaec7880cbc7",
   "metadata": {},
   "outputs": [
    {
     "data": {
      "text/plain": [
       "[1, 2, 3, 4]"
      ]
     },
     "execution_count": 76,
     "metadata": {},
     "output_type": "execute_result"
    }
   ],
   "source": [
    "lis =[1,2,3,4]\n",
    "lis"
   ]
  },
  {
   "cell_type": "code",
   "execution_count": 77,
   "id": "2a9fb6c9-aec5-45a9-b076-da96bba8b0f7",
   "metadata": {},
   "outputs": [],
   "source": [
    "arr3 = np.array(lis)"
   ]
  },
  {
   "cell_type": "code",
   "execution_count": 78,
   "id": "067a53a7-0ece-4278-88eb-e0e9c08cbeb6",
   "metadata": {},
   "outputs": [
    {
     "data": {
      "text/plain": [
       "array([1, 2, 3, 4])"
      ]
     },
     "execution_count": 78,
     "metadata": {},
     "output_type": "execute_result"
    }
   ],
   "source": [
    "arr3"
   ]
  },
  {
   "cell_type": "code",
   "execution_count": 79,
   "id": "d1155279-9c3d-47e5-b2ed-29b208beb482",
   "metadata": {},
   "outputs": [
    {
     "data": {
      "text/plain": [
       "1"
      ]
     },
     "execution_count": 79,
     "metadata": {},
     "output_type": "execute_result"
    }
   ],
   "source": [
    "arr3.ndim"
   ]
  },
  {
   "cell_type": "code",
   "execution_count": 81,
   "id": "66c1f9cf-7552-468f-92f0-74fe8258d3ef",
   "metadata": {},
   "outputs": [],
   "source": [
    "arr3 = np.array(([2,3],[4,5]))"
   ]
  },
  {
   "cell_type": "code",
   "execution_count": 82,
   "id": "6d2b231c-ee7e-4d3a-9ef6-794c73313960",
   "metadata": {},
   "outputs": [
    {
     "data": {
      "text/plain": [
       "array([[2, 3],\n",
       "       [4, 5]])"
      ]
     },
     "execution_count": 82,
     "metadata": {},
     "output_type": "execute_result"
    }
   ],
   "source": [
    "arr3"
   ]
  },
  {
   "cell_type": "code",
   "execution_count": 83,
   "id": "d3aa122f-d122-47b0-9cde-253bfa335f79",
   "metadata": {},
   "outputs": [
    {
     "data": {
      "text/plain": [
       "2"
      ]
     },
     "execution_count": 83,
     "metadata": {},
     "output_type": "execute_result"
    }
   ],
   "source": [
    "arr3.ndim"
   ]
  },
  {
   "cell_type": "code",
   "execution_count": 85,
   "id": "e7477081-e989-4a55-b75f-fbe43c1e52b5",
   "metadata": {},
   "outputs": [],
   "source": [
    "arr4 = np.zeros((3,4))"
   ]
  },
  {
   "cell_type": "code",
   "execution_count": 86,
   "id": "dfb3be3a-f0d1-449f-8e32-ac786bdb7203",
   "metadata": {},
   "outputs": [
    {
     "data": {
      "text/plain": [
       "array([[0., 0., 0., 0.],\n",
       "       [0., 0., 0., 0.],\n",
       "       [0., 0., 0., 0.]])"
      ]
     },
     "execution_count": 86,
     "metadata": {},
     "output_type": "execute_result"
    }
   ],
   "source": [
    "arr4"
   ]
  },
  {
   "cell_type": "raw",
   "id": "289b18b0-1d36-4a20-887a-e06f4c6df76e",
   "metadata": {},
   "source": []
  },
  {
   "cell_type": "code",
   "execution_count": 87,
   "id": "ac59a1ce-1c58-4a86-824d-d34ea8205813",
   "metadata": {},
   "outputs": [
    {
     "data": {
      "text/plain": [
       "2"
      ]
     },
     "execution_count": 87,
     "metadata": {},
     "output_type": "execute_result"
    }
   ],
   "source": [
    "arr4.ndim"
   ]
  },
  {
   "cell_type": "code",
   "execution_count": 88,
   "id": "b56112a5-ca62-4c32-b23f-5e15ffe5602b",
   "metadata": {},
   "outputs": [],
   "source": [
    "arr4 = np.zeros((1,3,4))# matrxi of 3,4 with 1 extra dimension"
   ]
  },
  {
   "cell_type": "code",
   "execution_count": 89,
   "id": "8aeb42e8-7ebc-4ee4-9a7a-f157aef5f438",
   "metadata": {},
   "outputs": [
    {
     "data": {
      "text/plain": [
       "array([[[0., 0., 0., 0.],\n",
       "        [0., 0., 0., 0.],\n",
       "        [0., 0., 0., 0.]]])"
      ]
     },
     "execution_count": 89,
     "metadata": {},
     "output_type": "execute_result"
    }
   ],
   "source": [
    "arr4"
   ]
  },
  {
   "cell_type": "code",
   "execution_count": 90,
   "id": "b89a5e2a-d524-40e8-bc31-2da6338defcb",
   "metadata": {},
   "outputs": [
    {
     "data": {
      "text/plain": [
       "3"
      ]
     },
     "execution_count": 90,
     "metadata": {},
     "output_type": "execute_result"
    }
   ],
   "source": [
    "arr4.ndim"
   ]
  },
  {
   "cell_type": "code",
   "execution_count": 91,
   "id": "82a66585-456c-4500-b5df-1866cfaed189",
   "metadata": {},
   "outputs": [
    {
     "data": {
      "text/plain": [
       "array([[[[0., 0., 0., 0.],\n",
       "         [0., 0., 0., 0.],\n",
       "         [0., 0., 0., 0.]]]])"
      ]
     },
     "execution_count": 91,
     "metadata": {},
     "output_type": "execute_result"
    }
   ],
   "source": [
    "arr5 = np.zeros((1,1,3,4))\n",
    "arr5"
   ]
  },
  {
   "cell_type": "code",
   "execution_count": 92,
   "id": "39c69328-c49b-40b1-8be4-00e22a4a73c7",
   "metadata": {},
   "outputs": [
    {
     "data": {
      "text/plain": [
       "4"
      ]
     },
     "execution_count": 92,
     "metadata": {},
     "output_type": "execute_result"
    }
   ],
   "source": [
    "arr5.ndim"
   ]
  },
  {
   "cell_type": "code",
   "execution_count": 93,
   "id": "24d15bd6-a28d-42b4-a650-add827eb18df",
   "metadata": {},
   "outputs": [
    {
     "data": {
      "text/plain": [
       "(1, 1, 3, 4)"
      ]
     },
     "execution_count": 93,
     "metadata": {},
     "output_type": "execute_result"
    }
   ],
   "source": [
    "arr5.shape"
   ]
  },
  {
   "cell_type": "code",
   "execution_count": 94,
   "id": "6d178304-3175-4c01-bc95-84bf5cb425f6",
   "metadata": {},
   "outputs": [
    {
     "data": {
      "text/plain": [
       "array([[[0., 0., 0., 0.],\n",
       "        [0., 0., 0., 0.],\n",
       "        [0., 0., 0., 0.]]])"
      ]
     },
     "execution_count": 94,
     "metadata": {},
     "output_type": "execute_result"
    }
   ],
   "source": [
    "arr6 = np.zeros((1,3,4))\n",
    "arr6"
   ]
  },
  {
   "cell_type": "code",
   "execution_count": 95,
   "id": "5c1b8df1-27f7-4533-8a94-55ebf1f89478",
   "metadata": {},
   "outputs": [
    {
     "data": {
      "text/plain": [
       "3"
      ]
     },
     "execution_count": 95,
     "metadata": {},
     "output_type": "execute_result"
    }
   ],
   "source": [
    "arr6.ndim"
   ]
  },
  {
   "cell_type": "code",
   "execution_count": 96,
   "id": "ed6aafff-e139-4ffd-9a86-29c03e17c273",
   "metadata": {},
   "outputs": [
    {
     "data": {
      "text/plain": [
       "array([[[0., 0., 0., 0.],\n",
       "        [0., 0., 0., 0.],\n",
       "        [0., 0., 0., 0.]],\n",
       "\n",
       "       [[0., 0., 0., 0.],\n",
       "        [0., 0., 0., 0.],\n",
       "        [0., 0., 0., 0.]]])"
      ]
     },
     "execution_count": 96,
     "metadata": {},
     "output_type": "execute_result"
    }
   ],
   "source": [
    "arr6 = np.zeros((2,3,4))\n",
    "arr6"
   ]
  },
  {
   "cell_type": "code",
   "execution_count": 97,
   "id": "cc80becd-f7a2-4a39-ac2e-bc977fc584ec",
   "metadata": {},
   "outputs": [
    {
     "data": {
      "text/plain": [
       "array([[[0., 0., 0., 0.],\n",
       "        [0., 0., 0., 0.],\n",
       "        [0., 0., 0., 0.]],\n",
       "\n",
       "       [[0., 0., 0., 0.],\n",
       "        [0., 0., 0., 0.],\n",
       "        [0., 0., 0., 0.]],\n",
       "\n",
       "       [[0., 0., 0., 0.],\n",
       "        [0., 0., 0., 0.],\n",
       "        [0., 0., 0., 0.]],\n",
       "\n",
       "       [[0., 0., 0., 0.],\n",
       "        [0., 0., 0., 0.],\n",
       "        [0., 0., 0., 0.]]])"
      ]
     },
     "execution_count": 97,
     "metadata": {},
     "output_type": "execute_result"
    }
   ],
   "source": [
    "arr6 = np.zeros((4,3,4))\n",
    "arr6"
   ]
  },
  {
   "cell_type": "code",
   "execution_count": 98,
   "id": "32642a1a-45c7-4711-8bc1-98ebd983377c",
   "metadata": {},
   "outputs": [
    {
     "ename": "ValueError",
     "evalue": "negative dimensions are not allowed",
     "output_type": "error",
     "traceback": [
      "\u001b[0;31m---------------------------------------------------------------------------\u001b[0m",
      "\u001b[0;31mValueError\u001b[0m                                Traceback (most recent call last)",
      "Cell \u001b[0;32mIn[98], line 1\u001b[0m\n\u001b[0;32m----> 1\u001b[0m arr7 \u001b[38;5;241m=\u001b[39m \u001b[43mnp\u001b[49m\u001b[38;5;241;43m.\u001b[39;49m\u001b[43mzeros\u001b[49m\u001b[43m(\u001b[49m\u001b[43m(\u001b[49m\u001b[38;5;241;43m-\u001b[39;49m\u001b[38;5;241;43m1\u001b[39;49m\u001b[43m,\u001b[49m\u001b[38;5;241;43m3\u001b[39;49m\u001b[43m,\u001b[49m\u001b[38;5;241;43m4\u001b[39;49m\u001b[43m)\u001b[49m\u001b[43m)\u001b[49m\n\u001b[1;32m      2\u001b[0m arr7\n",
      "\u001b[0;31mValueError\u001b[0m: negative dimensions are not allowed"
     ]
    }
   ],
   "source": [
    "arr7 = np.zeros((-1,3,4))\n",
    "arr7"
   ]
  },
  {
   "cell_type": "code",
   "execution_count": 99,
   "id": "345703ae-3f3c-44ab-b888-eef3d5597f75",
   "metadata": {},
   "outputs": [
    {
     "data": {
      "text/plain": [
       "array([], shape=(0, 3, 4), dtype=float64)"
      ]
     },
     "execution_count": 99,
     "metadata": {},
     "output_type": "execute_result"
    }
   ],
   "source": [
    "arr7 = np.zeros((0,3,4))\n",
    "arr7"
   ]
  },
  {
   "cell_type": "code",
   "execution_count": 102,
   "id": "71acbe7c-cbc9-4cc7-8162-006ced60e248",
   "metadata": {},
   "outputs": [
    {
     "data": {
      "text/plain": [
       "array([[5, 9, 5, 2, 9, 9],\n",
       "       [6, 4, 6, 9, 8, 7],\n",
       "       [3, 1, 3, 5, 1, 1],\n",
       "       [5, 3, 5, 3, 8, 7],\n",
       "       [4, 7, 9, 6, 4, 6]])"
      ]
     },
     "execution_count": 102,
     "metadata": {},
     "output_type": "execute_result"
    }
   ],
   "source": [
    "arr8 = np.random.randint(1,10,(5,6))\n",
    "arr8"
   ]
  },
  {
   "cell_type": "code",
   "execution_count": 103,
   "id": "b485f6ab-5f59-4fec-8c28-2d8b0299c571",
   "metadata": {},
   "outputs": [
    {
     "data": {
      "text/plain": [
       "array([[ True,  True,  True,  True,  True,  True],\n",
       "       [ True,  True,  True,  True,  True,  True],\n",
       "       [ True, False,  True,  True, False, False],\n",
       "       [ True,  True,  True,  True,  True,  True],\n",
       "       [ True,  True,  True,  True,  True,  True]])"
      ]
     },
     "execution_count": 103,
     "metadata": {},
     "output_type": "execute_result"
    }
   ],
   "source": [
    "arr8>1"
   ]
  },
  {
   "cell_type": "code",
   "execution_count": 104,
   "id": "37ccbf4b-14a2-4e69-a147-fcae912564cb",
   "metadata": {},
   "outputs": [
    {
     "data": {
      "text/plain": [
       "array([9, 9, 9, 6, 6, 9, 8, 7, 8, 7, 7, 9, 6, 6])"
      ]
     },
     "execution_count": 104,
     "metadata": {},
     "output_type": "execute_result"
    }
   ],
   "source": [
    "arr8[arr8 > 5]"
   ]
  },
  {
   "cell_type": "code",
   "execution_count": 106,
   "id": "65ced647-7051-41fb-80e9-3d633650c5c0",
   "metadata": {},
   "outputs": [
    {
     "data": {
      "text/plain": [
       "array([5, 9, 5, 2, 9, 9])"
      ]
     },
     "execution_count": 106,
     "metadata": {},
     "output_type": "execute_result"
    }
   ],
   "source": [
    "arr8[0]"
   ]
  },
  {
   "cell_type": "code",
   "execution_count": 108,
   "id": "d0b551b7-cc7c-4c5d-a87e-376941e15b21",
   "metadata": {},
   "outputs": [
    {
     "data": {
      "text/plain": [
       "array([9, 2])"
      ]
     },
     "execution_count": 108,
     "metadata": {},
     "output_type": "execute_result"
    }
   ],
   "source": [
    "arr8[0 , [1,3]]"
   ]
  },
  {
   "cell_type": "code",
   "execution_count": 109,
   "id": "517c12ec-8489-4f0b-a04b-c3b348b1ff31",
   "metadata": {},
   "outputs": [
    {
     "data": {
      "text/plain": [
       "array([4, 8])"
      ]
     },
     "execution_count": 109,
     "metadata": {},
     "output_type": "execute_result"
    }
   ],
   "source": [
    "arr8[1 , [1,4]]"
   ]
  },
  {
   "cell_type": "code",
   "execution_count": 110,
   "id": "4d4fbf6e-9823-4a38-8dc3-93ea5723d873",
   "metadata": {},
   "outputs": [
    {
     "data": {
      "text/plain": [
       "array([[3, 5],\n",
       "       [5, 3]])"
      ]
     },
     "execution_count": 110,
     "metadata": {},
     "output_type": "execute_result"
    }
   ],
   "source": [
    "arr8[2:4, [2,3]]"
   ]
  },
  {
   "cell_type": "code",
   "execution_count": 111,
   "id": "ca54c4b1-3870-4b16-bbeb-753209124084",
   "metadata": {},
   "outputs": [
    {
     "data": {
      "text/plain": [
       "array([[5, 9, 5, 2, 9, 9],\n",
       "       [6, 4, 6, 9, 8, 7],\n",
       "       [3, 1, 3, 5, 1, 1],\n",
       "       [5, 3, 5, 3, 8, 7],\n",
       "       [4, 7, 9, 6, 4, 6]])"
      ]
     },
     "execution_count": 111,
     "metadata": {},
     "output_type": "execute_result"
    }
   ],
   "source": [
    "arr8"
   ]
  },
  {
   "cell_type": "code",
   "execution_count": 112,
   "id": "5770e8d1-a33c-4e78-9be8-36fed4b8a9fb",
   "metadata": {},
   "outputs": [
    {
     "data": {
      "text/plain": [
       "array([[3, 1, 3, 5, 1, 1],\n",
       "       [5, 3, 5, 3, 8, 7]])"
      ]
     },
     "execution_count": 112,
     "metadata": {},
     "output_type": "execute_result"
    }
   ],
   "source": [
    "arr8[2:4]"
   ]
  },
  {
   "cell_type": "code",
   "execution_count": 113,
   "id": "62a375e2-2950-4f2b-8579-07b9a3188e81",
   "metadata": {},
   "outputs": [
    {
     "data": {
      "text/plain": [
       "array([[3, 1, 3, 5, 1, 1],\n",
       "       [5, 3, 5, 3, 8, 7],\n",
       "       [4, 7, 9, 6, 4, 6]])"
      ]
     },
     "execution_count": 113,
     "metadata": {},
     "output_type": "execute_result"
    }
   ],
   "source": [
    "arr8[2:7]"
   ]
  },
  {
   "cell_type": "code",
   "execution_count": 114,
   "id": "6fb27c7d-fd0c-48c3-b4a8-22e8be914d53",
   "metadata": {},
   "outputs": [
    {
     "data": {
      "text/plain": [
       "array([[3, 3],\n",
       "       [5, 5]])"
      ]
     },
     "execution_count": 114,
     "metadata": {},
     "output_type": "execute_result"
    }
   ],
   "source": [
    "arr8[2:4, [0,2]]"
   ]
  },
  {
   "cell_type": "code",
   "execution_count": 115,
   "id": "27a574bf-2b58-465e-a555-5e0c93e98cc0",
   "metadata": {},
   "outputs": [
    {
     "data": {
      "text/plain": [
       "array([[3, 1],\n",
       "       [5, 3]])"
      ]
     },
     "execution_count": 115,
     "metadata": {},
     "output_type": "execute_result"
    }
   ],
   "source": [
    "arr8[2:4, 0:2] # slicing of  array"
   ]
  },
  {
   "cell_type": "code",
   "execution_count": 127,
   "id": "30bd69e2-8d21-4926-bd4f-f07d019fa750",
   "metadata": {},
   "outputs": [
    {
     "data": {
      "text/plain": [
       "array([[2, 1, 2],\n",
       "       [1, 1, 1],\n",
       "       [2, 1, 1],\n",
       "       [2, 2, 2]])"
      ]
     },
     "execution_count": 127,
     "metadata": {},
     "output_type": "execute_result"
    }
   ],
   "source": [
    "arr9 = np.random.randint(1,3,(4,3))\n",
    "arr9"
   ]
  },
  {
   "cell_type": "code",
   "execution_count": 128,
   "id": "eaf5b9b1-dba3-41d0-957b-04d7b273cc09",
   "metadata": {},
   "outputs": [
    {
     "data": {
      "text/plain": [
       "array([[1, 2, 2],\n",
       "       [1, 2, 2],\n",
       "       [1, 1, 1],\n",
       "       [2, 2, 2]])"
      ]
     },
     "execution_count": 128,
     "metadata": {},
     "output_type": "execute_result"
    }
   ],
   "source": [
    "arr10 = np.random.randint(1,3,(4,3))\n",
    "arr10"
   ]
  },
  {
   "cell_type": "code",
   "execution_count": 129,
   "id": "bb211e80-18ed-4e9a-88dc-9f72009d56d8",
   "metadata": {},
   "outputs": [
    {
     "data": {
      "text/plain": [
       "array([[3, 3, 4],\n",
       "       [2, 3, 3],\n",
       "       [3, 2, 2],\n",
       "       [4, 4, 4]])"
      ]
     },
     "execution_count": 129,
     "metadata": {},
     "output_type": "execute_result"
    }
   ],
   "source": [
    "arr9 + arr10"
   ]
  },
  {
   "cell_type": "code",
   "execution_count": 130,
   "id": "a8ba69bd-d1bb-4612-afce-e47d2a6520d7",
   "metadata": {},
   "outputs": [
    {
     "data": {
      "text/plain": [
       "array([[2, 2, 4],\n",
       "       [1, 2, 2],\n",
       "       [2, 1, 1],\n",
       "       [4, 4, 4]])"
      ]
     },
     "execution_count": 130,
     "metadata": {},
     "output_type": "execute_result"
    }
   ],
   "source": [
    "arr9 * arr10"
   ]
  },
  {
   "cell_type": "code",
   "execution_count": 131,
   "id": "84d01dff-0c88-4d25-8c55-1cb35babf52b",
   "metadata": {},
   "outputs": [
    {
     "ename": "ValueError",
     "evalue": "matmul: Input operand 1 has a mismatch in its core dimension 0, with gufunc signature (n?,k),(k,m?)->(n?,m?) (size 4 is different from 3)",
     "output_type": "error",
     "traceback": [
      "\u001b[0;31m---------------------------------------------------------------------------\u001b[0m",
      "\u001b[0;31mValueError\u001b[0m                                Traceback (most recent call last)",
      "Cell \u001b[0;32mIn[131], line 1\u001b[0m\n\u001b[0;32m----> 1\u001b[0m \u001b[43marr9\u001b[49m\u001b[43m \u001b[49m\u001b[38;5;241;43m@\u001b[39;49m\u001b[43m \u001b[49m\u001b[43marr10\u001b[49m\n",
      "\u001b[0;31mValueError\u001b[0m: matmul: Input operand 1 has a mismatch in its core dimension 0, with gufunc signature (n?,k),(k,m?)->(n?,m?) (size 4 is different from 3)"
     ]
    }
   ],
   "source": [
    "arr9 @ arr10"
   ]
  },
  {
   "cell_type": "code",
   "execution_count": 132,
   "id": "1feb2796-13c2-47c6-a05d-44bc7b16942e",
   "metadata": {},
   "outputs": [
    {
     "data": {
      "text/plain": [
       "array([[2, 2, 2],\n",
       "       [1, 2, 1],\n",
       "       [2, 1, 2]])"
      ]
     },
     "execution_count": 132,
     "metadata": {},
     "output_type": "execute_result"
    }
   ],
   "source": [
    "arr11 = np.random.randint(1,3,(3,3))\n",
    "arr11"
   ]
  },
  {
   "cell_type": "code",
   "execution_count": 133,
   "id": "88f48157-8917-4a03-89c2-2ed43da772c6",
   "metadata": {},
   "outputs": [
    {
     "data": {
      "text/plain": [
       "array([[ 8,  8,  8],\n",
       "       [ 8,  8,  8],\n",
       "       [ 5,  5,  5],\n",
       "       [10, 10, 10]])"
      ]
     },
     "execution_count": 133,
     "metadata": {},
     "output_type": "execute_result"
    }
   ],
   "source": [
    "arr10 @ arr11 # matrix multiplication"
   ]
  },
  {
   "cell_type": "code",
   "execution_count": 135,
   "id": "1fb9aae8-8692-41b4-8ac4-61e29a505f03",
   "metadata": {},
   "outputs": [
    {
     "data": {
      "text/plain": [
       "array([[2. , 0.5, 1. ],\n",
       "       [1. , 0.5, 0.5],\n",
       "       [2. , 1. , 1. ],\n",
       "       [1. , 1. , 1. ]])"
      ]
     },
     "execution_count": 135,
     "metadata": {},
     "output_type": "execute_result"
    }
   ],
   "source": [
    "arr9 / arr10"
   ]
  },
  {
   "cell_type": "code",
   "execution_count": 136,
   "id": "1239413b-2420-426b-b8bf-b64d88da66ba",
   "metadata": {},
   "outputs": [
    {
     "name": "stderr",
     "output_type": "stream",
     "text": [
      "/tmp/ipykernel_110/1768603788.py:1: RuntimeWarning: divide by zero encountered in divide\n",
      "  arr11 / 0\n"
     ]
    },
    {
     "data": {
      "text/plain": [
       "array([[inf, inf, inf],\n",
       "       [inf, inf, inf],\n",
       "       [inf, inf, inf]])"
      ]
     },
     "execution_count": 136,
     "metadata": {},
     "output_type": "execute_result"
    }
   ],
   "source": [
    "arr11 / 0"
   ]
  },
  {
   "cell_type": "code",
   "execution_count": 137,
   "id": "9d2a782c-6142-4d82-9223-ecf3095ca137",
   "metadata": {},
   "outputs": [],
   "source": [
    "# Broad casting"
   ]
  },
  {
   "cell_type": "code",
   "execution_count": 146,
   "id": "da546569-f68b-464c-ad51-f02ed5841475",
   "metadata": {},
   "outputs": [],
   "source": [
    "arr12 = np.zeros((1,2,3))"
   ]
  },
  {
   "cell_type": "code",
   "execution_count": 147,
   "id": "edd54f87-e4c4-48d7-bff1-2fb4126fb76a",
   "metadata": {},
   "outputs": [
    {
     "data": {
      "text/plain": [
       "array([[[0., 0., 0.],\n",
       "        [0., 0., 0.]]])"
      ]
     },
     "execution_count": 147,
     "metadata": {},
     "output_type": "execute_result"
    }
   ],
   "source": [
    "arr12"
   ]
  },
  {
   "cell_type": "code",
   "execution_count": 151,
   "id": "89b5ef32-26a3-49d9-97d2-7cded8bbb0d3",
   "metadata": {},
   "outputs": [],
   "source": [
    "a = np.array([1,2,3])"
   ]
  },
  {
   "cell_type": "code",
   "execution_count": 152,
   "id": "8f22747a-d85e-4b1a-96da-dc3ed294399b",
   "metadata": {},
   "outputs": [
    {
     "data": {
      "text/plain": [
       "array([1, 2, 3])"
      ]
     },
     "execution_count": 152,
     "metadata": {},
     "output_type": "execute_result"
    }
   ],
   "source": [
    "a "
   ]
  },
  {
   "cell_type": "code",
   "execution_count": 153,
   "id": "b647b001-1beb-474c-a1f8-42427f970c7b",
   "metadata": {},
   "outputs": [
    {
     "data": {
      "text/plain": [
       "array([[[1., 2., 3.],\n",
       "        [1., 2., 3.]]])"
      ]
     },
     "execution_count": 153,
     "metadata": {},
     "output_type": "execute_result"
    }
   ],
   "source": [
    "arr12 + a\n"
   ]
  },
  {
   "cell_type": "code",
   "execution_count": 160,
   "id": "9fd0ad35-e4b1-47ed-96ce-30327c8ed55d",
   "metadata": {},
   "outputs": [],
   "source": [
    "b = np.array([1,2,3,4])"
   ]
  },
  {
   "cell_type": "code",
   "execution_count": 162,
   "id": "bc8334c0-1657-49d0-bace-5e885a16ebdc",
   "metadata": {},
   "outputs": [
    {
     "data": {
      "text/plain": [
       "array([1, 2, 3, 4])"
      ]
     },
     "execution_count": 162,
     "metadata": {},
     "output_type": "execute_result"
    }
   ],
   "source": [
    "b.T"
   ]
  },
  {
   "cell_type": "code",
   "execution_count": 156,
   "id": "688a8f3e-c313-4930-bb20-b76ee9fe61bc",
   "metadata": {},
   "outputs": [
    {
     "ename": "ValueError",
     "evalue": "operands could not be broadcast together with shapes (1,2,3) (4,) ",
     "output_type": "error",
     "traceback": [
      "\u001b[0;31m---------------------------------------------------------------------------\u001b[0m",
      "\u001b[0;31mValueError\u001b[0m                                Traceback (most recent call last)",
      "Cell \u001b[0;32mIn[156], line 1\u001b[0m\n\u001b[0;32m----> 1\u001b[0m \u001b[43marr12\u001b[49m\u001b[43m \u001b[49m\u001b[38;5;241;43m+\u001b[39;49m\u001b[43m \u001b[49m\u001b[43mb\u001b[49m\n",
      "\u001b[0;31mValueError\u001b[0m: operands could not be broadcast together with shapes (1,2,3) (4,) "
     ]
    }
   ],
   "source": [
    "arr12 + b"
   ]
  },
  {
   "cell_type": "code",
   "execution_count": 157,
   "id": "ff6cd35e-a67b-448f-945f-e6bced4c32f3",
   "metadata": {},
   "outputs": [
    {
     "data": {
      "text/plain": [
       "array([1, 2, 3, 4])"
      ]
     },
     "execution_count": 157,
     "metadata": {},
     "output_type": "execute_result"
    }
   ],
   "source": [
    "b.T\n"
   ]
  },
  {
   "cell_type": "code",
   "execution_count": 158,
   "id": "c155b551-c383-45e2-a629-0ed110e8083c",
   "metadata": {},
   "outputs": [
    {
     "data": {
      "text/plain": [
       "array([1, 2, 3, 4])"
      ]
     },
     "execution_count": 158,
     "metadata": {},
     "output_type": "execute_result"
    }
   ],
   "source": [
    "b"
   ]
  },
  {
   "cell_type": "code",
   "execution_count": 159,
   "id": "c9510d73-9931-4f60-bd4c-adb8d36e4b43",
   "metadata": {},
   "outputs": [
    {
     "data": {
      "text/plain": [
       "array([1, 2, 3])"
      ]
     },
     "execution_count": 159,
     "metadata": {},
     "output_type": "execute_result"
    }
   ],
   "source": [
    "a.T"
   ]
  },
  {
   "cell_type": "code",
   "execution_count": 163,
   "id": "8054f6e6-25e8-4693-839b-c6b63d51703b",
   "metadata": {},
   "outputs": [
    {
     "data": {
      "text/plain": [
       "array([[[0., 0., 0.],\n",
       "        [0., 0., 0.]]])"
      ]
     },
     "execution_count": 163,
     "metadata": {},
     "output_type": "execute_result"
    }
   ],
   "source": [
    "arr12"
   ]
  },
  {
   "cell_type": "code",
   "execution_count": 164,
   "id": "54813f2d-2553-4c87-89da-0be08dae2ecb",
   "metadata": {},
   "outputs": [
    {
     "data": {
      "text/plain": [
       "array([[[0.],\n",
       "        [0.]],\n",
       "\n",
       "       [[0.],\n",
       "        [0.]],\n",
       "\n",
       "       [[0.],\n",
       "        [0.]]])"
      ]
     },
     "execution_count": 164,
     "metadata": {},
     "output_type": "execute_result"
    }
   ],
   "source": [
    "arr12.T"
   ]
  },
  {
   "cell_type": "code",
   "execution_count": 165,
   "id": "4405ff3a-708e-49a6-98c5-02a719219896",
   "metadata": {},
   "outputs": [
    {
     "data": {
      "text/plain": [
       "array([[[1., 2., 3., 4.],\n",
       "        [1., 2., 3., 4.]],\n",
       "\n",
       "       [[1., 2., 3., 4.],\n",
       "        [1., 2., 3., 4.]],\n",
       "\n",
       "       [[1., 2., 3., 4.],\n",
       "        [1., 2., 3., 4.]]])"
      ]
     },
     "execution_count": 165,
     "metadata": {},
     "output_type": "execute_result"
    }
   ],
   "source": [
    "arr12.T + b"
   ]
  },
  {
   "cell_type": "code",
   "execution_count": 166,
   "id": "38260d98-063f-4342-8668-2b9e07babbeb",
   "metadata": {},
   "outputs": [
    {
     "data": {
      "text/plain": [
       "array([[[0., 0., 0.],\n",
       "        [0., 0., 0.]]])"
      ]
     },
     "execution_count": 166,
     "metadata": {},
     "output_type": "execute_result"
    }
   ],
   "source": [
    "np.sqrt(arr12)"
   ]
  },
  {
   "cell_type": "code",
   "execution_count": 167,
   "id": "ed531940-850f-4a32-bc60-642aced40406",
   "metadata": {},
   "outputs": [
    {
     "name": "stderr",
     "output_type": "stream",
     "text": [
      "/tmp/ipykernel_110/155814875.py:1: RuntimeWarning: divide by zero encountered in log10\n",
      "  np.log10(arr12)\n"
     ]
    },
    {
     "data": {
      "text/plain": [
       "array([[[-inf, -inf, -inf],\n",
       "        [-inf, -inf, -inf]]])"
      ]
     },
     "execution_count": 167,
     "metadata": {},
     "output_type": "execute_result"
    }
   ],
   "source": [
    "np.log10(arr12)"
   ]
  },
  {
   "cell_type": "code",
   "execution_count": 168,
   "id": "ac7b9a9f-8706-4220-81ff-cd461befed13",
   "metadata": {},
   "outputs": [
    {
     "data": {
      "text/plain": [
       "array([[[1., 1., 1.],\n",
       "        [1., 1., 1.]]])"
      ]
     },
     "execution_count": 168,
     "metadata": {},
     "output_type": "execute_result"
    }
   ],
   "source": [
    "np.exp(arr12)"
   ]
  },
  {
   "cell_type": "code",
   "execution_count": 169,
   "id": "cdb85388-6f5c-4111-9264-cea1afa5b18c",
   "metadata": {},
   "outputs": [
    {
     "data": {
      "text/plain": [
       "0.0"
      ]
     },
     "execution_count": 169,
     "metadata": {},
     "output_type": "execute_result"
    }
   ],
   "source": [
    "np.min(arr12)"
   ]
  },
  {
   "cell_type": "code",
   "execution_count": 170,
   "id": "ecc13854-16ba-4b2a-a758-580e083c3eaa",
   "metadata": {},
   "outputs": [
    {
     "data": {
      "text/plain": [
       "<function ndarray.flatten>"
      ]
     },
     "execution_count": 170,
     "metadata": {},
     "output_type": "execute_result"
    }
   ],
   "source": [
    "arr12.flatten"
   ]
  },
  {
   "cell_type": "code",
   "execution_count": 171,
   "id": "95eb2796-d487-43dd-acfa-733090047edd",
   "metadata": {},
   "outputs": [],
   "source": [
    "#expand_dims >> exands the array by inserting a new dimesnion"
   ]
  },
  {
   "cell_type": "code",
   "execution_count": 174,
   "id": "af5e25d8-99d6-45bb-8daa-1ec6641e8351",
   "metadata": {},
   "outputs": [],
   "source": [
    "arr13 = np.array([[1,2,3],[4,5,6]])"
   ]
  },
  {
   "cell_type": "code",
   "execution_count": 175,
   "id": "885caa3b-828b-4c07-9205-207b3cbbf53b",
   "metadata": {},
   "outputs": [
    {
     "data": {
      "text/plain": [
       "array([[1, 2, 3],\n",
       "       [4, 5, 6]])"
      ]
     },
     "execution_count": 175,
     "metadata": {},
     "output_type": "execute_result"
    }
   ],
   "source": [
    "arr13"
   ]
  },
  {
   "cell_type": "code",
   "execution_count": 176,
   "id": "2736ea4b-d461-4aa9-a333-0bf0d50d15ba",
   "metadata": {},
   "outputs": [
    {
     "data": {
      "text/plain": [
       "21"
      ]
     },
     "execution_count": 176,
     "metadata": {},
     "output_type": "execute_result"
    }
   ],
   "source": [
    "np.sum(arr13)"
   ]
  },
  {
   "cell_type": "code",
   "execution_count": 178,
   "id": "5fedc476-18a8-48fe-a238-2f76b170a1ef",
   "metadata": {},
   "outputs": [
    {
     "data": {
      "text/plain": [
       "array([5, 7, 9])"
      ]
     },
     "execution_count": 178,
     "metadata": {},
     "output_type": "execute_result"
    }
   ],
   "source": [
    "np.sum(arr13, axis=0)"
   ]
  },
  {
   "cell_type": "code",
   "execution_count": 179,
   "id": "af20c01c-5308-4d85-81aa-10b8ac48a9f5",
   "metadata": {},
   "outputs": [
    {
     "data": {
      "text/plain": [
       "array([ 6, 15])"
      ]
     },
     "execution_count": 179,
     "metadata": {},
     "output_type": "execute_result"
    }
   ],
   "source": [
    "np.sum(arr13, axis=1)"
   ]
  },
  {
   "cell_type": "code",
   "execution_count": 181,
   "id": "8f57a777-13e5-49e5-9656-0aa14d99ebed",
   "metadata": {},
   "outputs": [
    {
     "data": {
      "text/plain": [
       "array([1, 2, 3, 4])"
      ]
     },
     "execution_count": 181,
     "metadata": {},
     "output_type": "execute_result"
    }
   ],
   "source": [
    "arr14 = np.array([1,2,3,4])\n",
    "arr14"
   ]
  },
  {
   "cell_type": "code",
   "execution_count": 182,
   "id": "e6a84768-a30e-4a19-baac-6f4b9a271a0b",
   "metadata": {},
   "outputs": [
    {
     "data": {
      "text/plain": [
       "array([1, 2, 3, 4])"
      ]
     },
     "execution_count": 182,
     "metadata": {},
     "output_type": "execute_result"
    }
   ],
   "source": [
    "arr14"
   ]
  },
  {
   "cell_type": "code",
   "execution_count": 183,
   "id": "b6e4c639-f644-43b4-b5c7-347b2f66a166",
   "metadata": {},
   "outputs": [
    {
     "data": {
      "text/plain": [
       "1"
      ]
     },
     "execution_count": 183,
     "metadata": {},
     "output_type": "execute_result"
    }
   ],
   "source": [
    "arr14.ndim"
   ]
  },
  {
   "cell_type": "code",
   "execution_count": 185,
   "id": "81642995-0b44-4b35-84d3-286dfc8b9182",
   "metadata": {},
   "outputs": [
    {
     "data": {
      "text/plain": [
       "array([[[[1, 2, 3],\n",
       "         [4, 5, 6]]]])"
      ]
     },
     "execution_count": 185,
     "metadata": {},
     "output_type": "execute_result"
    }
   ],
   "source": [
    "arr15 = np.expand_dims(arr14, axis =0 )\n",
    "arr15"
   ]
  },
  {
   "cell_type": "code",
   "execution_count": 187,
   "id": "a73c0289-5462-4234-99bd-e4fd262bde1f",
   "metadata": {},
   "outputs": [
    {
     "data": {
      "text/plain": [
       "array([[[[[1, 2, 3],\n",
       "          [4, 5, 6]]]]])"
      ]
     },
     "execution_count": 187,
     "metadata": {},
     "output_type": "execute_result"
    }
   ],
   "source": [
    "arr16 = np.expand_dims(arr15, axis =0 )\n",
    "arr16"
   ]
  },
  {
   "cell_type": "code",
   "execution_count": 188,
   "id": "ff9fb4db-201d-4b30-be7d-3529b5702fb9",
   "metadata": {},
   "outputs": [
    {
     "data": {
      "text/plain": [
       "array([[[[[[1, 2, 3],\n",
       "           [4, 5, 6]]]]]])"
      ]
     },
     "execution_count": 188,
     "metadata": {},
     "output_type": "execute_result"
    }
   ],
   "source": [
    "arr17 = np.expand_dims(arr16, axis =0 )\n",
    "arr17"
   ]
  },
  {
   "cell_type": "code",
   "execution_count": 189,
   "id": "c7a26ad2-e27d-419a-9ddc-bf5e6656cc1c",
   "metadata": {},
   "outputs": [
    {
     "data": {
      "text/plain": [
       "array([[[[[[1, 2, 3],\n",
       "           [4, 5, 6]]]]]])"
      ]
     },
     "execution_count": 189,
     "metadata": {},
     "output_type": "execute_result"
    }
   ],
   "source": [
    "arr17 = np.expand_dims(arr16, axis = 1 )\n",
    "arr17"
   ]
  },
  {
   "cell_type": "code",
   "execution_count": 190,
   "id": "e6e00f91-38c2-4850-a409-249a28907cdb",
   "metadata": {},
   "outputs": [
    {
     "data": {
      "text/plain": [
       "array([[[1, 2, 3]],\n",
       "\n",
       "       [[4, 5, 6]]])"
      ]
     },
     "execution_count": 190,
     "metadata": {},
     "output_type": "execute_result"
    }
   ],
   "source": [
    "arr18 = np.expand_dims(arr, axis = 1 )\n",
    "arr18"
   ]
  },
  {
   "cell_type": "code",
   "execution_count": null,
   "id": "0e52ad6d-8eb5-4d2b-8e38-0bd1bbe78a64",
   "metadata": {},
   "outputs": [],
   "source": []
  }
 ],
 "metadata": {
  "kernelspec": {
   "display_name": "Python 3 (ipykernel)",
   "language": "python",
   "name": "python3"
  },
  "language_info": {
   "codemirror_mode": {
    "name": "ipython",
    "version": 3
   },
   "file_extension": ".py",
   "mimetype": "text/x-python",
   "name": "python",
   "nbconvert_exporter": "python",
   "pygments_lexer": "ipython3",
   "version": "3.10.8"
  }
 },
 "nbformat": 4,
 "nbformat_minor": 5
}
